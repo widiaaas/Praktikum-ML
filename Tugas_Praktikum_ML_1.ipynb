{
  "nbformat": 4,
  "nbformat_minor": 0,
  "metadata": {
    "colab": {
      "provenance": []
    },
    "kernelspec": {
      "name": "python3",
      "display_name": "Python 3"
    },
    "language_info": {
      "name": "python"
    }
  },
  "cells": [
    {
      "cell_type": "code",
      "execution_count": null,
      "metadata": {
        "id": "ufzvq0ck5jc-"
      },
      "outputs": [],
      "source": []
    },
    {
      "cell_type": "markdown",
      "source": [
        "**NAMA : WIDIAWATI SIHALOHO**\n",
        "\n",
        "**NIM : 24060122120037**\n",
        "\n",
        "**LAB C-1**\n",
        "\n",
        "**TUGAS PRAKTIKUM ML KE 1**"
      ],
      "metadata": {
        "id": "gBkAAK7p85qI"
      }
    },
    {
      "cell_type": "markdown",
      "source": [
        "**Library** ini digunakan untuk memproses data, membangun model machine learning, mengevaluasi model, dan memvisualisasikan hasilnya."
      ],
      "metadata": {
        "id": "FRKxzzsr-YUm"
      }
    },
    {
      "cell_type": "code",
      "source": [
        "import pandas as pd\n",
        "from pandas.plotting import scatter_matrix\n",
        "import matplotlib.pyplot as plt\n",
        "import seaborn as sns\n",
        "import numpy as np\n",
        "from sklearn import model_selection\n",
        "from sklearn.neighbors import KNeighborsClassifier\n",
        "from sklearn.naive_bayes import GaussianNB\n",
        "from sklearn.svm import SVC\n",
        "from sklearn.metrics import classification_report\n",
        "from sklearn.metrics import confusion_matrix\n",
        "from sklearn.metrics import accuracy_score\n"
      ],
      "metadata": {
        "id": "qM-3KwOs-Pwd"
      },
      "execution_count": null,
      "outputs": []
    },
    {
      "cell_type": "markdown",
      "source": [
        "**Load Dataset**"
      ],
      "metadata": {
        "id": "bhN3c3bn-hHl"
      }
    },
    {
      "cell_type": "code",
      "source": [
        "url = \"https://archive.ics.uci.edu/ml/machine-learning-databases/iris/iris.data\"\n",
        "names = ['sepal-length', 'sepal-width', 'petal-length', 'petal-width', 'class']\n",
        "dataset = pd.read_csv(url, names=names)"
      ],
      "metadata": {
        "id": "pJIBeTx5A7uS"
      },
      "execution_count": null,
      "outputs": []
    },
    {
      "cell_type": "code",
      "source": [
        "url = \"https://archive.ics.uci.edu/ml/machine-learning-databases/iris/iris.data\"\n",
        "dataset = pd.read_csv(url, header = None)"
      ],
      "metadata": {
        "id": "i_4EWtzNBC-o"
      },
      "execution_count": null,
      "outputs": []
    },
    {
      "cell_type": "markdown",
      "source": [
        "**Melihat Dimensi Dataset**"
      ],
      "metadata": {
        "id": "83PFo1vMBGDn"
      }
    },
    {
      "cell_type": "code",
      "source": [
        "print (dataset.shape)"
      ],
      "metadata": {
        "colab": {
          "base_uri": "https://localhost:8080/"
        },
        "id": "Qua7hm-qKABU",
        "outputId": "9ef6234a-859b-4a70-b4e2-502d9d2181a2"
      },
      "execution_count": null,
      "outputs": [
        {
          "output_type": "stream",
          "name": "stdout",
          "text": [
            "(150, 5)\n"
          ]
        }
      ]
    },
    {
      "cell_type": "markdown",
      "source": [
        "**Melihat Isi Dataset**"
      ],
      "metadata": {
        "id": "vUKNbPdGKBpo"
      }
    },
    {
      "cell_type": "code",
      "source": [
        "print(dataset.head(20))"
      ],
      "metadata": {
        "colab": {
          "base_uri": "https://localhost:8080/"
        },
        "id": "6My4DPKaKILA",
        "outputId": "b3f4dc26-dd59-4775-8f2f-78880ca17617"
      },
      "execution_count": null,
      "outputs": [
        {
          "output_type": "stream",
          "name": "stdout",
          "text": [
            "      0    1    2    3            4\n",
            "0   5.1  3.5  1.4  0.2  Iris-setosa\n",
            "1   4.9  3.0  1.4  0.2  Iris-setosa\n",
            "2   4.7  3.2  1.3  0.2  Iris-setosa\n",
            "3   4.6  3.1  1.5  0.2  Iris-setosa\n",
            "4   5.0  3.6  1.4  0.2  Iris-setosa\n",
            "5   5.4  3.9  1.7  0.4  Iris-setosa\n",
            "6   4.6  3.4  1.4  0.3  Iris-setosa\n",
            "7   5.0  3.4  1.5  0.2  Iris-setosa\n",
            "8   4.4  2.9  1.4  0.2  Iris-setosa\n",
            "9   4.9  3.1  1.5  0.1  Iris-setosa\n",
            "10  5.4  3.7  1.5  0.2  Iris-setosa\n",
            "11  4.8  3.4  1.6  0.2  Iris-setosa\n",
            "12  4.8  3.0  1.4  0.1  Iris-setosa\n",
            "13  4.3  3.0  1.1  0.1  Iris-setosa\n",
            "14  5.8  4.0  1.2  0.2  Iris-setosa\n",
            "15  5.7  4.4  1.5  0.4  Iris-setosa\n",
            "16  5.4  3.9  1.3  0.4  Iris-setosa\n",
            "17  5.1  3.5  1.4  0.3  Iris-setosa\n",
            "18  5.7  3.8  1.7  0.3  Iris-setosa\n",
            "19  5.1  3.8  1.5  0.3  Iris-setosa\n"
          ]
        }
      ]
    },
    {
      "cell_type": "markdown",
      "source": [
        "**EVALUASI ALGORITMA**"
      ],
      "metadata": {
        "id": "DRlqTH35OA6_"
      }
    },
    {
      "cell_type": "markdown",
      "source": [
        "**1. Membuat Validasi Dataset**"
      ],
      "metadata": {
        "id": "h4O_XT5KOLWO"
      }
    },
    {
      "cell_type": "code",
      "source": [
        "#Split-out validation dataset\n",
        "array = dataset.values\n",
        "X = array[:,0:4]\n",
        "Y = array[:,4]\n",
        "validation_size = 0.20\n",
        "seed = 7\n",
        "X_train, X_validation, Y_train, Y_validation = model_selection.train_test_split(X, Y, test_size=validation_size,random_state=seed)"
      ],
      "metadata": {
        "id": "1IlXL_8IOJs3"
      },
      "execution_count": null,
      "outputs": []
    },
    {
      "cell_type": "markdown",
      "source": [
        "Kode ini memisahkan dataset menjadi data pelatihan (X_train, Y_train) sebanyak 80% dan data validasi (X_validation, Y_validation) sebanyak 20%. Data pelatihan digunakan untuk membangun model, sementara data validasi digunakan untuk mengevaluasi kinerjanya pada data yang tidak terlihat sebelumnya. Proporsi pembagian ditentukan oleh parameter validation_size.\n",
        "\n"
      ],
      "metadata": {
        "id": "CntQmkWKOsXy"
      }
    },
    {
      "cell_type": "markdown",
      "source": [
        "**2. K-Fold Cross Validation**"
      ],
      "metadata": {
        "id": "6kxj_q7OPpPq"
      }
    },
    {
      "cell_type": "code",
      "source": [
        "from os import sched_get_priority_max\n",
        "# test options and evaluation metric\n",
        "\n",
        "seed = 7\n",
        "\n",
        "scoring = 'accuracy'"
      ],
      "metadata": {
        "id": "fWJ2M70xPt5W"
      },
      "execution_count": null,
      "outputs": []
    },
    {
      "cell_type": "markdown",
      "source": [
        "Pada tahap ini bertujuan untukk mengevaluasi kinerja model secara lebih stabel dan akurat dengan membagi data pelatihan ke dalam beberpa bagian/subset.\n",
        "\n",
        "Tahapan nya terditi dari :\n",
        "*   Data pelatihan dibagi menjadi 10 subset (folds).\n",
        "*   Model dilatih pada 9 subset dan diuji pada subset ke-10, secara bergantian.\n",
        "*   Hasil rata-rata akurasi dihitung untuk memberikan gambaran umum tentang kinerja model.\n",
        "\n",
        "\n"
      ],
      "metadata": {
        "id": "fkwkv12rPxJv"
      }
    },
    {
      "cell_type": "markdown",
      "source": [
        "**3. Membangun Model**"
      ],
      "metadata": {
        "id": "NMoSF2ZnQkvC"
      }
    },
    {
      "cell_type": "code",
      "source": [
        "#spot check algorithms\n",
        "\n",
        "models = []\n",
        "models.append(('KNN',KNeighborsClassifier()))\n",
        "models.append(('NB',GaussianNB()))\n",
        "models.append(('SVM',SVC()))\n",
        "\n"
      ],
      "metadata": {
        "id": "NgijaCPHQ3lY"
      },
      "execution_count": null,
      "outputs": []
    },
    {
      "cell_type": "markdown",
      "source": [
        "Pada kode ini dilakukan inisialisasi Model yang terdiri dari model :\n",
        "* KNN = Algoritma berbasis tetangga terdekat untuk klasifikasi.\n",
        "* NB = Algoritma Naive Bayes untuk data dengan distribusi Gaussian (normal).\n",
        "* SVM = Algoritma klasifikasi berbasis margin optimal."
      ],
      "metadata": {
        "id": "xHbHVwa2RPWW"
      }
    },
    {
      "cell_type": "code",
      "source": [
        "# evaluate each model in turn\n",
        "results = []\n",
        "names = []\n",
        "\n",
        "for name, model in models:\n",
        "  kfold = model_selection.KFold(n_splits=10, random_state=seed, shuffle=True)\n",
        "  cv_results = model_selection.cross_val_score(model, X_train, Y_train, cv=kfold, scoring=scoring)\n",
        "  results.append(cv_results)\n",
        "  names.append(name)\n",
        "  msg = \"%s: %f (%f)\" % (name, cv_results.mean(), cv_results.std())\n",
        "  print(msg)"
      ],
      "metadata": {
        "colab": {
          "base_uri": "https://localhost:8080/"
        },
        "id": "JbJwIjKDRAN9",
        "outputId": "bb4793c0-b215-49ed-ddac-402d87da9497"
      },
      "execution_count": null,
      "outputs": [
        {
          "output_type": "stream",
          "name": "stdout",
          "text": [
            "KNN: 0.983333 (0.033333)\n",
            "NB: 0.966667 (0.040825)\n",
            "SVM: 0.983333 (0.033333)\n"
          ]
        }
      ]
    },
    {
      "cell_type": "markdown",
      "source": [
        "Kode ini merupakan evaluasi tiap model dengan validasi silang dengan tujuan Membandingkan performa awal beberapa algoritma pembelajaran mesin (KNN, Naive Bayes, dan SVM) dan Mengukur rata-rata akurasi setiap model untuk memahami kinerjanya pada data pelatihan.\n",
        "\n"
      ],
      "metadata": {
        "id": "ijmrdGQQR6I5"
      }
    },
    {
      "cell_type": "markdown",
      "source": [
        "Hasil Evaluasi:\n",
        "\n",
        "KNN: 0.983333 (0.033333)\n",
        "\n",
        "NB: 0.966667 (0.040825)\n",
        "\n",
        "SVM: 0.983333 (0.033333)\n",
        "\n",
        "1. Analisis  Akurasi nya\n",
        "\n",
        "  Untuk KNN dan SVM memliki akurasi rata-rata tertinggi sebesar 98.33%. Ini menunjukkan kedua model bekerja sangat baik pada datset jini.\n",
        "\n",
        "  Sedangkan NB memiliki akurasi rata-rata yang sedikit lebih rendah dibandingkan KNN dan SVM, yaitu 96.67%. Itu dikarenakan oleh asumsi distribusi Gaussian yang tidak sepenuhnya terpenuhi untuk semua fitur dalam dataset\n",
        "\n",
        "2. Analisis Stabilitas (Deviasi Standar)\n",
        "\n",
        "  Untuk KNN dan SVM memiliki deviasi standar terkecil (0.033333), menunjukkan bahwa kinerja kedua model sangat stabil di berbagai subset data. Stabilitas tinggi ini berarti model dapat diandalkan untuk menghasilkan hasil yang konsisten pada data yang berbeda.\n",
        "\n",
        "  Sedangkan NB memiliki deviasi standar lebih besar (0.040825), menunjukkan variasi yang sedikit lebih tinggi dibandingkan KNN dan SVM dikarenakan Naive Bayes yang sensitif terhadap distribusi data atau pola hubungan antar fitur"
      ],
      "metadata": {
        "id": "Ut42l6zvTVof"
      }
    },
    {
      "cell_type": "markdown",
      "source": [
        "**4. Memilih Model Terbaik**"
      ],
      "metadata": {
        "id": "w-cy3mv5Ufb5"
      }
    },
    {
      "cell_type": "markdown",
      "source": [
        "Dari hasil evaluasi validasi silang, SVM menunjukkan akurasi rata-rata tertinggi (98.33%) dan deviasi standar yang rendah (0.033333), yang menandakan performa yang sangat baik dan stabil pada dataset Iris.\n",
        "Akurasi ini setara dengan KNN, tetapi SVM lebih efisien dalam menangani data non-linear melalui penggunaan kernel."
      ],
      "metadata": {
        "id": "CJhX5hmXVYU_"
      }
    },
    {
      "cell_type": "code",
      "source": [
        "# Make predictions on validation dataset\n",
        "svm = SVC()\n",
        "svm.fit(X_train, Y_train)\n",
        "predictions = svm.predict(X_validation)\n",
        "print(accuracy_score(Y_validation, predictions))\n",
        "print(confusion_matrix(Y_validation, predictions))\n",
        "cm = confusion_matrix(Y_validation, predictions)\n",
        "print(cm)\n",
        "print (classification_report(Y_validation, predictions))"
      ],
      "metadata": {
        "colab": {
          "base_uri": "https://localhost:8080/"
        },
        "id": "s8VigMpoUlV0",
        "outputId": "58307ca5-e897-4073-c0a8-7df4c1e46cd3"
      },
      "execution_count": null,
      "outputs": [
        {
          "output_type": "stream",
          "name": "stdout",
          "text": [
            "0.8666666666666667\n",
            "[[ 7  0  0]\n",
            " [ 0 10  2]\n",
            " [ 0  2  9]]\n",
            "[[ 7  0  0]\n",
            " [ 0 10  2]\n",
            " [ 0  2  9]]\n",
            "                 precision    recall  f1-score   support\n",
            "\n",
            "    Iris-setosa       1.00      1.00      1.00         7\n",
            "Iris-versicolor       0.83      0.83      0.83        12\n",
            " Iris-virginica       0.82      0.82      0.82        11\n",
            "\n",
            "       accuracy                           0.87        30\n",
            "      macro avg       0.88      0.88      0.88        30\n",
            "   weighted avg       0.87      0.87      0.87        30\n",
            "\n"
          ]
        }
      ]
    },
    {
      "cell_type": "markdown",
      "source": [
        "Kode ini digunakan untuk mengevaluasi kinerja model Support Vector Machine (SVM) pada dataset validasi setelah pelatihan pada dataset pelatihan. Tahapan yaitu:\n",
        "\n",
        "1. Model SVC (Support Vector Classifier) dibuat menggunakan parameter default. Model ini dilatih pada data pelatihan (X_train dan Y_train) menggunakan metode .fit().\n",
        "2. Setelah model dilatih, prediksi dilakukan pada data validasi (X_validation) dengan metode .predict(), menghasilkan array prediksi untuk setiap instance dalam dataset validasi.\n",
        "3. Hasil prediksi dibandingkan dengan label sebenarnya (Y_validation) untuk menghitung akurasi menggunakan accuracy_score, yaitu proporsi prediksi yang benar dari total prediksi.\n",
        "4. confusion matrix dihitung menggunakan confusion_matrix untuk memberikan detail tentang jumlah prediksi benar dan salah untuk setiap kelas. Matriks ini membantu menganalisis bagaimana model menangani setiap kelas dalam dataset (misalnya, jumlah kesalahan dalam mengklasifikasikan Iris-versicolor sebagai Iris-virginica).\n",
        "5. classification report dihasilkan, yang memberikan metrik evaluasi tambahan seperti precision (ketepatan prediksi untuk setiap kelas), recall (kemampuan model untuk mendeteksi semua instance kelas tertentu), dan F1-score (rata-rata harmonis antara precision dan recall).\n",
        "\n",
        "**HASIL ANALISIS DARI EVALUASI KINERJA SVM**\n",
        "1. Akurasi\n",
        "  Akurasi keseluruhan model adalah 0.87 (87%) yang menunjukkan bahwa 87% prediksi model pada data validasi adalah benar. Walaupun akurasi cukup baik, masih ada ruang untuk perbaikan, terutama pada kelas tertentu yang memiliki kesalahan klasifikasi.\n",
        "2. Confusion Matrix\n",
        "\n",
        "  [[7 0 0]   --> Kelas Iris-setosa: Semua 7 instance diklasifikasikan dengan benar.\n",
        "\n",
        " [0 10 2]  --> Kelas Iris-versicolor: 10 instance benar, 2 salah diklasifikasikan sebagai Iris-virginica.\n",
        "\n",
        " [0 2 9]]  --> Kelas Iris-virginica: 9 instance benar, 2 salah diklasifikasikan sebagai Iris-versicolor.\n",
        "\n",
        "3. Performance Evaluation\n",
        "*Precision*\n",
        "- Iris-setosa: 1.00 (100%) = Semua prediksi untuk Iris-setosa benar.\n",
        "- Iris-versicolor: 0.83 (83%) = Dari semua prediksi untuk Iris-versicolor, 83% benar.\n",
        "- Iris-virginica: 0.82 (82%) = Dari semua prediksi untuk Iris-virginica, 82% benar.\n",
        "\n",
        "*Recall*\n",
        "- Iris-setosa: 1.00 (100%) = Semua instance sebenarnya dari Iris-setosa berhasil dikenali.\n",
        "- Iris-versicolor: 0.83 (83%) = 83% instance Iris-versicolor dikenali dengan benar.\n",
        "- Iris-virginica: 0.82 (82%) = 82% instance Iris-virginica dikenali dengan benar.\n",
        "\n",
        "*F1-Score*\n",
        "- Iris-setosa: 1.00 (100%) = Tidak ada kesalahan.\n",
        "- Iris-versicolor: 0.83 (83%) = Menunjukkan performa baik tetapi ada beberapa kesalahan.\n",
        "- Iris-virginica: 0.82 (82%) = Performanya serupa dengan Iris-versicolor.\n",
        "\n",
        "\n",
        "*Rata-rata*\n",
        "- Macro Average: 0.88 = Rata-rata precision, recall, dan F1-score dihitung secara rata-rata sederhana tanpa mempertimbangkan jumlah instance per kelas.\n",
        "- Weighted Average: 0.87 = Precision, recall, dan F1-score dihitung dengan mempertimbangkan jumlah instance per kelas.\n",
        "\n",
        "\n",
        "\n"
      ],
      "metadata": {
        "id": "n2Citm19Usf6"
      }
    },
    {
      "cell_type": "code",
      "source": [
        "#create a pandas DataFrame from the confusion matrix\n",
        "classes = np.unique(Y_train)\n",
        "cm_df = pd.DataFrame(cm, index=classes, columns=classes)\n",
        "\n",
        "#Visualize the confusion matrix using seaborn\n",
        "plt.figure(figsize=(5,4))\n",
        "sns.heatmap(cm, annot=True, fmt='d', cmap='Blues')\n",
        "plt.title('Confusion Matrix')\n",
        "plt.ylabel('True label')\n",
        "plt.xlabel('Predicted label')\n",
        "plt.show()\n"
      ],
      "metadata": {
        "colab": {
          "base_uri": "https://localhost:8080/",
          "height": 410
        },
        "id": "gpPadg-JUqsp",
        "outputId": "f1659d25-9ed8-4178-feb0-67c668cfe739"
      },
      "execution_count": null,
      "outputs": [
        {
          "output_type": "display_data",
          "data": {
            "text/plain": [
              "<Figure size 500x400 with 2 Axes>"
            ],
            "image/png": "[encoded data removed]"
          },
          "metadata": {}
        }
      ]
    },
    {
      "cell_type": "markdown",
      "source": [
        "Kode ini digunakan untuk memvisualisasikan confusion matrix dari hasil prediksi model SVM pada data validasi. Pertama, daftar unik kelas target dari data pelatihan (Y_train) diambil menggunakan np.unique untuk digunakan sebagai label baris dan kolom dalam matriks. Lalu (cm) dikonversi menjadi DataFrame Pandas, dengan label kelas sebagai indeks (kelas sebenarnya) dan kolom (kelas prediksi).\n",
        "\n",
        "Selanjutnya, heatmap dari matriks kebingungan dibuat menggunakan Seaborn. Heatmap ini menampilkan jumlah prediksi benar dan salah untuk setiap kombinasi kelas dengan angka di dalam sel matriks (annotasi) dan pewarnaan menggunakan palet biru untuk estetika. Sumbu Y diberi label \"True label\" (kelas sebenarnya) dan sumbu X diberi label \"Predicted label\" (kelas yang diprediksi), sementara judul \"Confusion Matrix\" menandai visualisasi ini."
      ],
      "metadata": {
        "id": "gFCUtyuAWb5T"
      }
    }
  ]
}