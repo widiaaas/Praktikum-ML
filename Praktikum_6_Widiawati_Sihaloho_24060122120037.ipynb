{
  "nbformat": 4,
  "nbformat_minor": 0,
  "metadata": {
    "colab": {
      "provenance": []
    },
    "kernelspec": {
      "name": "python3",
      "display_name": "Python 3"
    },
    "language_info": {
      "name": "python"
    }
  },
  "cells": [
    {
      "cell_type": "markdown",
      "source": [
        "**Nama : Widiawati Sihaloho**\n",
        "\n",
        "**NIM : 24060122120037**\n",
        "\n",
        "**Praktikum ML LAB C-1**"
      ],
      "metadata": {
        "id": "XTz92085XkU5"
      }
    },
    {
      "cell_type": "markdown",
      "source": [
        "# **MODUL 6**"
      ],
      "metadata": {
        "id": "IoNnhycUXo25"
      }
    },
    {
      "cell_type": "markdown",
      "source": [
        "**Load Dataset Cars**"
      ],
      "metadata": {
        "id": "so0IFU0zW4bI"
      }
    },
    {
      "cell_type": "code",
      "source": [
        "import pandas as pd\n",
        "import numpy as np\n",
        "from sklearn.model_selection import train_test_split\n",
        "from sklearn.linear_model import LinearRegression\n",
        "from sklearn.decomposition import PCA\n",
        "from sklearn.metrics import mean_squared_error\n",
        "from sklearn.preprocessing import StandardScaler\n",
        "import matplotlib.pyplot as plt"
      ],
      "metadata": {
        "id": "DnkwiyMbXsSm"
      },
      "execution_count": 53,
      "outputs": []
    },
    {
      "cell_type": "code",
      "source": [
        "# Membaca dataset cars\n",
        "filename = 'cars_clus.csv'\n",
        "df = pd.read_csv(filename)\n",
        "\n",
        "df.head()\n"
      ],
      "metadata": {
        "id": "G-0eAkKLYZYs",
        "colab": {
          "base_uri": "https://localhost:8080/",
          "height": 226
        },
        "outputId": "7f2bd2c7-f3d0-45ad-93f1-ac6c5a60e70c"
      },
      "execution_count": 54,
      "outputs": [
        {
          "output_type": "execute_result",
          "data": {
            "text/plain": [
              "  manufact    model   sales  resale type   price engine_s horsepow wheelbas  \\\n",
              "0    Acura  Integra  16.919   16.36    0    21.5      1.8      140    101.2   \n",
              "1    Acura       TL  39.384  19.875    0    28.4      3.2      225    108.1   \n",
              "2    Acura       CL  14.114  18.225    0  $null$      3.2      225    106.9   \n",
              "3    Acura       RL   8.588  29.725    0      42      3.5      210    114.6   \n",
              "4     Audi       A4  20.397  22.255    0   23.99      1.8      150    102.6   \n",
              "\n",
              "  width length curb_wgt fuel_cap mpg lnsales  partition  \n",
              "0  67.3  172.4    2.639     13.2  28   2.828          0  \n",
              "1  70.3  192.9    3.517     17.2  25   3.673          0  \n",
              "2  70.6    192     3.47     17.2  26   2.647          0  \n",
              "3  71.4  196.6     3.85       18  22    2.15          0  \n",
              "4  68.2    178    2.998     16.4  27   3.015          0  "
            ],
            "text/html": [
              "\n",
              "  <div id=\"df-704f88da-c0b1-4761-bf2a-8439e4cbd283\" class=\"colab-df-container\">\n",
              "    <div>\n",
              "<style scoped>\n",
              "    .dataframe tbody tr th:only-of-type {\n",
              "        vertical-align: middle;\n",
              "    }\n",
              "\n",
              "    .dataframe tbody tr th {\n",
              "        vertical-align: top;\n",
              "    }\n",
              "\n",
              "    .dataframe thead th {\n",
              "        text-align: right;\n",
              "    }\n",
              "</style>\n",
              "<table border=\"1\" class=\"dataframe\">\n",
              "  <thead>\n",
              "    <tr style=\"text-align: right;\">\n",
              "      <th></th>\n",
              "      <th>manufact</th>\n",
              "      <th>model</th>\n",
              "      <th>sales</th>\n",
              "      <th>resale</th>\n",
              "      <th>type</th>\n",
              "      <th>price</th>\n",
              "      <th>engine_s</th>\n",
              "      <th>horsepow</th>\n",
              "      <th>wheelbas</th>\n",
              "      <th>width</th>\n",
              "      <th>length</th>\n",
              "      <th>curb_wgt</th>\n",
              "      <th>fuel_cap</th>\n",
              "      <th>mpg</th>\n",
              "      <th>lnsales</th>\n",
              "      <th>partition</th>\n",
              "    </tr>\n",
              "  </thead>\n",
              "  <tbody>\n",
              "    <tr>\n",
              "      <th>0</th>\n",
              "      <td>Acura</td>\n",
              "      <td>Integra</td>\n",
              "      <td>16.919</td>\n",
              "      <td>16.36</td>\n",
              "      <td>0</td>\n",
              "      <td>21.5</td>\n",
              "      <td>1.8</td>\n",
              "      <td>140</td>\n",
              "      <td>101.2</td>\n",
              "      <td>67.3</td>\n",
              "      <td>172.4</td>\n",
              "      <td>2.639</td>\n",
              "      <td>13.2</td>\n",
              "      <td>28</td>\n",
              "      <td>2.828</td>\n",
              "      <td>0</td>\n",
              "    </tr>\n",
              "    <tr>\n",
              "      <th>1</th>\n",
              "      <td>Acura</td>\n",
              "      <td>TL</td>\n",
              "      <td>39.384</td>\n",
              "      <td>19.875</td>\n",
              "      <td>0</td>\n",
              "      <td>28.4</td>\n",
              "      <td>3.2</td>\n",
              "      <td>225</td>\n",
              "      <td>108.1</td>\n",
              "      <td>70.3</td>\n",
              "      <td>192.9</td>\n",
              "      <td>3.517</td>\n",
              "      <td>17.2</td>\n",
              "      <td>25</td>\n",
              "      <td>3.673</td>\n",
              "      <td>0</td>\n",
              "    </tr>\n",
              "    <tr>\n",
              "      <th>2</th>\n",
              "      <td>Acura</td>\n",
              "      <td>CL</td>\n",
              "      <td>14.114</td>\n",
              "      <td>18.225</td>\n",
              "      <td>0</td>\n",
              "      <td>$null$</td>\n",
              "      <td>3.2</td>\n",
              "      <td>225</td>\n",
              "      <td>106.9</td>\n",
              "      <td>70.6</td>\n",
              "      <td>192</td>\n",
              "      <td>3.47</td>\n",
              "      <td>17.2</td>\n",
              "      <td>26</td>\n",
              "      <td>2.647</td>\n",
              "      <td>0</td>\n",
              "    </tr>\n",
              "    <tr>\n",
              "      <th>3</th>\n",
              "      <td>Acura</td>\n",
              "      <td>RL</td>\n",
              "      <td>8.588</td>\n",
              "      <td>29.725</td>\n",
              "      <td>0</td>\n",
              "      <td>42</td>\n",
              "      <td>3.5</td>\n",
              "      <td>210</td>\n",
              "      <td>114.6</td>\n",
              "      <td>71.4</td>\n",
              "      <td>196.6</td>\n",
              "      <td>3.85</td>\n",
              "      <td>18</td>\n",
              "      <td>22</td>\n",
              "      <td>2.15</td>\n",
              "      <td>0</td>\n",
              "    </tr>\n",
              "    <tr>\n",
              "      <th>4</th>\n",
              "      <td>Audi</td>\n",
              "      <td>A4</td>\n",
              "      <td>20.397</td>\n",
              "      <td>22.255</td>\n",
              "      <td>0</td>\n",
              "      <td>23.99</td>\n",
              "      <td>1.8</td>\n",
              "      <td>150</td>\n",
              "      <td>102.6</td>\n",
              "      <td>68.2</td>\n",
              "      <td>178</td>\n",
              "      <td>2.998</td>\n",
              "      <td>16.4</td>\n",
              "      <td>27</td>\n",
              "      <td>3.015</td>\n",
              "      <td>0</td>\n",
              "    </tr>\n",
              "  </tbody>\n",
              "</table>\n",
              "</div>\n",
              "    <div class=\"colab-df-buttons\">\n",
              "\n",
              "  <div class=\"colab-df-container\">\n",
              "    <button class=\"colab-df-convert\" onclick=\"convertToInteractive('df-704f88da-c0b1-4761-bf2a-8439e4cbd283')\"\n",
              "            title=\"Convert this dataframe to an interactive table.\"\n",
              "            style=\"display:none;\">\n",
              "\n",
              "  <svg xmlns=\"http://www.w3.org/2000/svg\" height=\"24px\" viewBox=\"0 -960 960 960\">\n",
              "    <path d=\"M120-120v-720h720v720H120Zm60-500h600v-160H180v160Zm220 220h160v-160H400v160Zm0 220h160v-160H400v160ZM180-400h160v-160H180v160Zm440 0h160v-160H620v160ZM180-180h160v-160H180v160Zm440 0h160v-160H620v160Z\"/>\n",
              "  </svg>\n",
              "    </button>\n",
              "\n",
              "  <style>\n",
              "    .colab-df-container {\n",
              "      display:flex;\n",
              "      gap: 12px;\n",
              "    }\n",
              "\n",
              "    .colab-df-convert {\n",
              "      background-color: #E8F0FE;\n",
              "      border: none;\n",
              "      border-radius: 50%;\n",
              "      cursor: pointer;\n",
              "      display: none;\n",
              "      fill: #1967D2;\n",
              "      height: 32px;\n",
              "      padding: 0 0 0 0;\n",
              "      width: 32px;\n",
              "    }\n",
              "\n",
              "    .colab-df-convert:hover {\n",
              "      background-color: #E2EBFA;\n",
              "      box-shadow: 0px 1px 2px rgba(60, 64, 67, 0.3), 0px 1px 3px 1px rgba(60, 64, 67, 0.15);\n",
              "      fill: #174EA6;\n",
              "    }\n",
              "\n",
              "    .colab-df-buttons div {\n",
              "      margin-bottom: 4px;\n",
              "    }\n",
              "\n",
              "    [theme=dark] .colab-df-convert {\n",
              "      background-color: #3B4455;\n",
              "      fill: #D2E3FC;\n",
              "    }\n",
              "\n",
              "    [theme=dark] .colab-df-convert:hover {\n",
              "      background-color: #434B5C;\n",
              "      box-shadow: 0px 1px 3px 1px rgba(0, 0, 0, 0.15);\n",
              "      filter: drop-shadow(0px 1px 2px rgba(0, 0, 0, 0.3));\n",
              "      fill: #FFFFFF;\n",
              "    }\n",
              "  </style>\n",
              "\n",
              "    <script>\n",
              "      const buttonEl =\n",
              "        document.querySelector('#df-704f88da-c0b1-4761-bf2a-8439e4cbd283 button.colab-df-convert');\n",
              "      buttonEl.style.display =\n",
              "        google.colab.kernel.accessAllowed ? 'block' : 'none';\n",
              "\n",
              "      async function convertToInteractive(key) {\n",
              "        const element = document.querySelector('#df-704f88da-c0b1-4761-bf2a-8439e4cbd283');\n",
              "        const dataTable =\n",
              "          await google.colab.kernel.invokeFunction('convertToInteractive',\n",
              "                                                    [key], {});\n",
              "        if (!dataTable) return;\n",
              "\n",
              "        const docLinkHtml = 'Like what you see? Visit the ' +\n",
              "          '<a target=\"_blank\" href=https://colab.research.google.com/notebooks/data_table.ipynb>data table notebook</a>'\n",
              "          + ' to learn more about interactive tables.';\n",
              "        element.innerHTML = '';\n",
              "        dataTable['output_type'] = 'display_data';\n",
              "        await google.colab.output.renderOutput(dataTable, element);\n",
              "        const docLink = document.createElement('div');\n",
              "        docLink.innerHTML = docLinkHtml;\n",
              "        element.appendChild(docLink);\n",
              "      }\n",
              "    </script>\n",
              "  </div>\n",
              "\n",
              "\n",
              "<div id=\"df-6bff1484-a3d0-48f9-9eb0-015fb8e59609\">\n",
              "  <button class=\"colab-df-quickchart\" onclick=\"quickchart('df-6bff1484-a3d0-48f9-9eb0-015fb8e59609')\"\n",
              "            title=\"Suggest charts\"\n",
              "            style=\"display:none;\">\n",
              "\n",
              "<svg xmlns=\"http://www.w3.org/2000/svg\" height=\"24px\"viewBox=\"0 0 24 24\"\n",
              "     width=\"24px\">\n",
              "    <g>\n",
              "        <path d=\"M19 3H5c-1.1 0-2 .9-2 2v14c0 1.1.9 2 2 2h14c1.1 0 2-.9 2-2V5c0-1.1-.9-2-2-2zM9 17H7v-7h2v7zm4 0h-2V7h2v10zm4 0h-2v-4h2v4z\"/>\n",
              "    </g>\n",
              "</svg>\n",
              "  </button>\n",
              "\n",
              "<style>\n",
              "  .colab-df-quickchart {\n",
              "      --bg-color: #E8F0FE;\n",
              "      --fill-color: #1967D2;\n",
              "      --hover-bg-color: #E2EBFA;\n",
              "      --hover-fill-color: #174EA6;\n",
              "      --disabled-fill-color: #AAA;\n",
              "      --disabled-bg-color: #DDD;\n",
              "  }\n",
              "\n",
              "  [theme=dark] .colab-df-quickchart {\n",
              "      --bg-color: #3B4455;\n",
              "      --fill-color: #D2E3FC;\n",
              "      --hover-bg-color: #434B5C;\n",
              "      --hover-fill-color: #FFFFFF;\n",
              "      --disabled-bg-color: #3B4455;\n",
              "      --disabled-fill-color: #666;\n",
              "  }\n",
              "\n",
              "  .colab-df-quickchart {\n",
              "    background-color: var(--bg-color);\n",
              "    border: none;\n",
              "    border-radius: 50%;\n",
              "    cursor: pointer;\n",
              "    display: none;\n",
              "    fill: var(--fill-color);\n",
              "    height: 32px;\n",
              "    padding: 0;\n",
              "    width: 32px;\n",
              "  }\n",
              "\n",
              "  .colab-df-quickchart:hover {\n",
              "    background-color: var(--hover-bg-color);\n",
              "    box-shadow: 0 1px 2px rgba(60, 64, 67, 0.3), 0 1px 3px 1px rgba(60, 64, 67, 0.15);\n",
              "    fill: var(--button-hover-fill-color);\n",
              "  }\n",
              "\n",
              "  .colab-df-quickchart-complete:disabled,\n",
              "  .colab-df-quickchart-complete:disabled:hover {\n",
              "    background-color: var(--disabled-bg-color);\n",
              "    fill: var(--disabled-fill-color);\n",
              "    box-shadow: none;\n",
              "  }\n",
              "\n",
              "  .colab-df-spinner {\n",
              "    border: 2px solid var(--fill-color);\n",
              "    border-color: transparent;\n",
              "    border-bottom-color: var(--fill-color);\n",
              "    animation:\n",
              "      spin 1s steps(1) infinite;\n",
              "  }\n",
              "\n",
              "  @keyframes spin {\n",
              "    0% {\n",
              "      border-color: transparent;\n",
              "      border-bottom-color: var(--fill-color);\n",
              "      border-left-color: var(--fill-color);\n",
              "    }\n",
              "    20% {\n",
              "      border-color: transparent;\n",
              "      border-left-color: var(--fill-color);\n",
              "      border-top-color: var(--fill-color);\n",
              "    }\n",
              "    30% {\n",
              "      border-color: transparent;\n",
              "      border-left-color: var(--fill-color);\n",
              "      border-top-color: var(--fill-color);\n",
              "      border-right-color: var(--fill-color);\n",
              "    }\n",
              "    40% {\n",
              "      border-color: transparent;\n",
              "      border-right-color: var(--fill-color);\n",
              "      border-top-color: var(--fill-color);\n",
              "    }\n",
              "    60% {\n",
              "      border-color: transparent;\n",
              "      border-right-color: var(--fill-color);\n",
              "    }\n",
              "    80% {\n",
              "      border-color: transparent;\n",
              "      border-right-color: var(--fill-color);\n",
              "      border-bottom-color: var(--fill-color);\n",
              "    }\n",
              "    90% {\n",
              "      border-color: transparent;\n",
              "      border-bottom-color: var(--fill-color);\n",
              "    }\n",
              "  }\n",
              "</style>\n",
              "\n",
              "  <script>\n",
              "    async function quickchart(key) {\n",
              "      const quickchartButtonEl =\n",
              "        document.querySelector('#' + key + ' button');\n",
              "      quickchartButtonEl.disabled = true;  // To prevent multiple clicks.\n",
              "      quickchartButtonEl.classList.add('colab-df-spinner');\n",
              "      try {\n",
              "        const charts = await google.colab.kernel.invokeFunction(\n",
              "            'suggestCharts', [key], {});\n",
              "      } catch (error) {\n",
              "        console.error('Error during call to suggestCharts:', error);\n",
              "      }\n",
              "      quickchartButtonEl.classList.remove('colab-df-spinner');\n",
              "      quickchartButtonEl.classList.add('colab-df-quickchart-complete');\n",
              "    }\n",
              "    (() => {\n",
              "      let quickchartButtonEl =\n",
              "        document.querySelector('#df-6bff1484-a3d0-48f9-9eb0-015fb8e59609 button');\n",
              "      quickchartButtonEl.style.display =\n",
              "        google.colab.kernel.accessAllowed ? 'block' : 'none';\n",
              "    })();\n",
              "  </script>\n",
              "</div>\n",
              "\n",
              "    </div>\n",
              "  </div>\n"
            ],
            "application/vnd.google.colaboratory.intrinsic+json": {
              "type": "dataframe",
              "variable_name": "df",
              "summary": "{\n  \"name\": \"df\",\n  \"rows\": 159,\n  \"fields\": [\n    {\n      \"column\": \"manufact\",\n      \"properties\": {\n        \"dtype\": \"category\",\n        \"num_unique_values\": 30,\n        \"samples\": [\n          \"Toyota\",\n          \"Lincoln\",\n          \"Porsche\"\n        ],\n        \"semantic_type\": \"\",\n        \"description\": \"\"\n      }\n    },\n    {\n      \"column\": \"model\",\n      \"properties\": {\n        \"dtype\": \"string\",\n        \"num_unique_values\": 158,\n        \"samples\": [\n          \"SL\",\n          \"Caravan\",\n          \"Forester\"\n        ],\n        \"semantic_type\": \"\",\n        \"description\": \"\"\n      }\n    },\n    {\n      \"column\": \"sales\",\n      \"properties\": {\n        \"dtype\": \"string\",\n        \"num_unique_values\": 158,\n        \"samples\": [\n          \"12.115\",\n          \"181.749\",\n          \"47.107\"\n        ],\n        \"semantic_type\": \"\",\n        \"description\": \"\"\n      }\n    },\n    {\n      \"column\": \"resale\",\n      \"properties\": {\n        \"dtype\": \"string\",\n        \"num_unique_values\": 118,\n        \"samples\": [\n          \"5.86\",\n          \"17.81\",\n          \"22.255\"\n        ],\n        \"semantic_type\": \"\",\n        \"description\": \"\"\n      }\n    },\n    {\n      \"column\": \"type\",\n      \"properties\": {\n        \"dtype\": \"category\",\n        \"num_unique_values\": 3,\n        \"samples\": [\n          \"0\",\n          \"1\",\n          \"$null$\"\n        ],\n        \"semantic_type\": \"\",\n        \"description\": \"\"\n      }\n    },\n    {\n      \"column\": \"price\",\n      \"properties\": {\n        \"dtype\": \"string\",\n        \"num_unique_values\": 154,\n        \"samples\": [\n          \"44.475\",\n          \"41\",\n          \"36\"\n        ],\n        \"semantic_type\": \"\",\n        \"description\": \"\"\n      }\n    },\n    {\n      \"column\": \"engine_s\",\n      \"properties\": {\n        \"dtype\": \"category\",\n        \"num_unique_values\": 32,\n        \"samples\": [\n          \"5\",\n          \"2\",\n          \"1.5\"\n        ],\n        \"semantic_type\": \"\",\n        \"description\": \"\"\n      }\n    },\n    {\n      \"column\": \"horsepow\",\n      \"properties\": {\n        \"dtype\": \"category\",\n        \"num_unique_values\": 69,\n        \"samples\": [\n          \"$null$\",\n          \"140\",\n          \"125\"\n        ],\n        \"semantic_type\": \"\",\n        \"description\": \"\"\n      }\n    },\n    {\n      \"column\": \"wheelbas\",\n      \"properties\": {\n        \"dtype\": \"string\",\n        \"num_unique_values\": 90,\n        \"samples\": [\n          \"114.7\",\n          \"97.1\",\n          \"105.9\"\n        ],\n        \"semantic_type\": \"\",\n        \"description\": \"\"\n      }\n    },\n    {\n      \"column\": \"width\",\n      \"properties\": {\n        \"dtype\": \"string\",\n        \"num_unique_values\": 80,\n        \"samples\": [\n          \"69.1\",\n          \"67.3\",\n          \"66.7\"\n        ],\n        \"semantic_type\": \"\",\n        \"description\": \"\"\n      }\n    },\n    {\n      \"column\": \"length\",\n      \"properties\": {\n        \"dtype\": \"string\",\n        \"num_unique_values\": 130,\n        \"samples\": [\n          \"178.2\",\n          \"193.5\",\n          \"200.9\"\n        ],\n        \"semantic_type\": \"\",\n        \"description\": \"\"\n      }\n    },\n    {\n      \"column\": \"curb_wgt\",\n      \"properties\": {\n        \"dtype\": \"string\",\n        \"num_unique_values\": 149,\n        \"samples\": [\n          \"3.9\",\n          \"5.572\",\n          \"3.396\"\n        ],\n        \"semantic_type\": \"\",\n        \"description\": \"\"\n      }\n    },\n    {\n      \"column\": \"fuel_cap\",\n      \"properties\": {\n        \"dtype\": \"category\",\n        \"num_unique_values\": 56,\n        \"samples\": [\n          \"13.2\",\n          \"23.7\",\n          \"14.5\"\n        ],\n        \"semantic_type\": \"\",\n        \"description\": \"\"\n      }\n    },\n    {\n      \"column\": \"mpg\",\n      \"properties\": {\n        \"dtype\": \"category\",\n        \"num_unique_values\": 24,\n        \"samples\": [\n          \"24.8\",\n          \"17\",\n          \"28\"\n        ],\n        \"semantic_type\": \"\",\n        \"description\": \"\"\n      }\n    },\n    {\n      \"column\": \"lnsales\",\n      \"properties\": {\n        \"dtype\": \"string\",\n        \"num_unique_values\": 151,\n        \"samples\": [\n          \"3.132\",\n          \"2.694\",\n          \"2.428\"\n        ],\n        \"semantic_type\": \"\",\n        \"description\": \"\"\n      }\n    },\n    {\n      \"column\": \"partition\",\n      \"properties\": {\n        \"dtype\": \"number\",\n        \"std\": 0,\n        \"min\": 0,\n        \"max\": 1,\n        \"num_unique_values\": 2,\n        \"samples\": [\n          1,\n          0\n        ],\n        \"semantic_type\": \"\",\n        \"description\": \"\"\n      }\n    }\n  ]\n}"
            }
          },
          "metadata": {},
          "execution_count": 54
        }
      ]
    },
    {
      "cell_type": "code",
      "source": [
        "print(df)"
      ],
      "metadata": {
        "colab": {
          "base_uri": "https://localhost:8080/"
        },
        "id": "sfk2Y0VGWYzQ",
        "outputId": "f58d6a8c-e1d9-4ee3-8cff-85da63d37c09"
      },
      "execution_count": 55,
      "outputs": [
        {
          "output_type": "stream",
          "name": "stdout",
          "text": [
            "    manufact     model   sales  resale    type   price engine_s horsepow  \\\n",
            "0      Acura   Integra  16.919   16.36       0    21.5      1.8      140   \n",
            "1      Acura        TL  39.384  19.875       0    28.4      3.2      225   \n",
            "2      Acura        CL  14.114  18.225       0  $null$      3.2      225   \n",
            "3      Acura        RL   8.588  29.725       0      42      3.5      210   \n",
            "4       Audi        A4  20.397  22.255       0   23.99      1.8      150   \n",
            "..       ...       ...     ...     ...     ...     ...      ...      ...   \n",
            "154    Volvo       V70  17.531  $null$       0    28.8      2.4      168   \n",
            "155    Volvo       C70   3.493  $null$       0    45.5      2.3      236   \n",
            "156    Volvo       S80  18.969  $null$       0      36      2.9      201   \n",
            "157      NaN    newCar  $null$  $null$  $null$    21.5      1.5       76   \n",
            "158      NaN  newTruck  $null$  $null$  $null$    34.2      3.5      167   \n",
            "\n",
            "    wheelbas width length curb_wgt fuel_cap mpg lnsales  partition  \n",
            "0      101.2  67.3  172.4    2.639     13.2  28   2.828          0  \n",
            "1      108.1  70.3  192.9    3.517     17.2  25   3.673          0  \n",
            "2      106.9  70.6    192     3.47     17.2  26   2.647          0  \n",
            "3      114.6  71.4  196.6     3.85       18  22    2.15          0  \n",
            "4      102.6  68.2    178    2.998     16.4  27   3.015          0  \n",
            "..       ...   ...    ...      ...      ...  ..     ...        ...  \n",
            "154    104.9  69.3  186.2    3.259     17.9  25   2.864          0  \n",
            "155    104.9  71.5  185.7    3.601     18.5  23   1.251          0  \n",
            "156    109.9  72.1  189.8      3.6     21.1  24   2.943          0  \n",
            "157    106.3  67.9    175    2.932     11.9  46  $null$          1  \n",
            "158    109.8  75.2  188.4    4.508     17.2  26  $null$          1  \n",
            "\n",
            "[159 rows x 16 columns]\n"
          ]
        }
      ]
    },
    {
      "cell_type": "code",
      "source": [
        "\n",
        "# Ganti $null$ dengan NaN\n",
        "df.replace('$null$', np.nan, inplace=True)\n",
        "\n",
        "# Pilih fitur yang akan digunakan\n",
        "features = ['sales', 'resale', 'price', 'engine_s', 'horsepow', 'wheelbas',\n",
        "            'width', 'length', 'curb_wgt', 'fuel_cap', 'mpg']\n",
        "\n",
        "# Pilih kolom fitur dan hapus baris dengan NaN\n",
        "X = df[features].dropna()\n",
        "\n",
        "# Konversi semua data menjadi float\n",
        "X = X.astype(float)"
      ],
      "metadata": {
        "id": "-oUXFbWXiZr9"
      },
      "execution_count": 56,
      "outputs": []
    },
    {
      "cell_type": "markdown",
      "source": [
        "Kode tersebut berfungsi untuk membersihkan data dan mempersiapkannya sebelum analisis atau pemrosesan lebih lanjut. Langkah pertama adalah mengganti semua nilai $null$ dalam dataset dengan NaN, karena $null$ dalam dataset berupa string dan tidak dikenali sebagai missing value oleh pandas. Dengan menggantinya menggunakan fungsi replace, nilai tersebut diubah menjadi np.nan, yang memungkinkan fungsi seperti dropna() untuk menghapus baris yang mengandung nilai NaN.\n",
        "\n",
        "Setelah itu, dipilih kolom-kolom fitur yang relevan untuk analisis, yaitu kolom numerik yang terdaftar dalam variabel features. Data pada kolom ini disaring untuk menghapus semua baris yang memiliki missing value menggunakan fungsi dropna(). Langkah ini memastikan bahwa hanya data lengkap yang digunakan untuk analisis lebih lanjut.\n",
        "\n",
        "Terakhir, seluruh data dalam kolom yang telah disaring dikonversi ke tipe float menggunakan fungsi astype(float). Konversi ini penting karena algoritma analisis data atau machine learning biasanya hanya bekerja dengan tipe data numerik. Dengan langkah-langkah ini, dataset menjadi lebih bersih dan siap digunakan untuk proses analisis berikutnya."
      ],
      "metadata": {
        "id": "l1WGoFGwfP76"
      }
    },
    {
      "cell_type": "markdown",
      "source": [
        "**Standarisasi Data**"
      ],
      "metadata": {
        "id": "nThXenAIW7vw"
      }
    },
    {
      "cell_type": "code",
      "source": [
        "scaler = StandardScaler()\n",
        "X_scaled = scaler.fit_transform(X)\n",
        "print(X_scaled[:5])"
      ],
      "metadata": {
        "id": "HEIZffDkZEyn",
        "colab": {
          "base_uri": "https://localhost:8080/"
        },
        "outputId": "3da22989-40eb-40c0-a13a-a89b3df721b5"
      },
      "execution_count": 57,
      "outputs": [
        {
          "output_type": "stream",
          "name": "stdout",
          "text": [
            "[[-0.56455364 -0.14464769 -0.31723012 -1.18851919 -0.70760105 -0.76427293\n",
            "  -1.10660259 -1.11075197 -1.15208399 -1.2208532   0.88524147]\n",
            " [-0.26396817  0.15952517  0.17251014  0.14398898  0.74935391  0.09649372\n",
            "  -0.25312531  0.37576661  0.32449122 -0.16219228  0.20113809]\n",
            " [-0.67602381  1.01190147  1.13779531  0.42952644  0.49224421  0.90736086\n",
            "   0.05981636  0.64406509  0.88451349  0.0495399  -0.4829653 ]\n",
            " [-0.51801741  0.36548005 -0.14049777 -1.18851919 -0.53619459 -0.58962463\n",
            "  -0.85055941 -0.7046786  -0.54833627 -0.37392447  0.65720701]\n",
            " [-0.53965314  0.47797642  0.56643166 -0.23672764  0.32083775  0.171343\n",
            "   1.39693076  0.31050482  0.39848816  0.18187252 -0.4829653 ]]\n"
          ]
        }
      ]
    },
    {
      "cell_type": "markdown",
      "source": [
        "**Proyeksi PCA ke 2D**"
      ],
      "metadata": {
        "id": "iu322cLAXEwP"
      }
    },
    {
      "cell_type": "code",
      "source": [
        "pca = PCA(n_components=2)\n",
        "principalComponents = pca.fit_transform(X_scaled)\n",
        "principalDf = pd.DataFrame(data = principalComponents, columns = ['principal component 1', 'principal component 2'])"
      ],
      "metadata": {
        "id": "a6OZQCHDZkRl"
      },
      "execution_count": 58,
      "outputs": []
    },
    {
      "cell_type": "markdown",
      "source": [
        "*Visualisasi Proyeksi 2D*"
      ],
      "metadata": {
        "id": "NW2pv4IbXKK3"
      }
    },
    {
      "cell_type": "code",
      "source": [
        "\n",
        "\n",
        "# Menggabungkan DataFrame principalDf dengan kolom 'partition' dari df\n",
        "finalDf = pd.concat([principalDf, df[['partition', 'type']]], axis=1)\n",
        "\n",
        "# Membuat figure dan axis untuk plot\n",
        "fig = plt.figure(figsize=(8, 8))\n",
        "ax = fig.add_subplot(1, 1, 1)\n",
        "\n",
        "# Set labels dan title untuk plot\n",
        "ax.set_xlabel('Principal Component 1', fontsize=15)\n",
        "ax.set_ylabel('Principal Component 2', fontsize=15)\n",
        "ax.set_title('2 Component PCA for Cars Dataset', fontsize=20)\n",
        "\n",
        "# Mendefinisikan targets (kategori 'type' pada dataset cars) dan warna untuk setiap kategori\n",
        "targets = df['type'].unique()  # Mengambil semua jenis mobil yang berbeda dalam kolom 'type'\n",
        "colors = ['r', 'g', 'b', 'c', 'm', 'y']  # Sesuaikan jumlah warna dengan jumlah kategori\n",
        "\n",
        "# Loop untuk setiap target class dan plot titik-titiknya\n",
        "for target, color in zip(targets, colors):\n",
        "    indicesToKeep = finalDf['type'] == target  # Memilih data berdasarkan kategori 'type'\n",
        "    ax.scatter(finalDf.loc[indicesToKeep, 'principal component 1'],\n",
        "               finalDf.loc[indicesToKeep, 'principal component 2'],\n",
        "               c=color, label=target, s=50)\n",
        "\n",
        "# Menambahkan legend dan grid ke plot\n",
        "ax.legend(targets)\n",
        "ax.grid()\n",
        "\n",
        "# Menampilkan plot\n",
        "plt.show()\n"
      ],
      "metadata": {
        "colab": {
          "base_uri": "https://localhost:8080/",
          "height": 732
        },
        "id": "Xva2Yg51ZnUy",
        "outputId": "9fc38131-47d6-4dd9-f895-f84c2ffcdaff"
      },
      "execution_count": 59,
      "outputs": [
        {
          "output_type": "display_data",
          "data": {
            "text/plain": [
              "<Figure size 800x800 with 1 Axes>"
            ],
            "image/png": "[encoded data removed]"
          },
          "metadata": {}
        }
      ]
    },
    {
      "cell_type": "markdown",
      "source": [
        "Grafik \"2 Component PCA for Cars Dataset\" yang ditampilkan menunjukkan hasil dari proses Principal Component Analysis (PCA), yang mereduksi data berdimensi tinggi menjadi dua komponen utama, yakni *Principal Component 1* (sumbu X) dan *Principal Component 2* (sumbu Y). Grafik ini menggambarkan distribusi data yang telah distandardisasi, dengan titik-titik yang dikelompokkan berdasarkan kategori yang ditunjukkan dalam legenda: merah untuk kategori 0, hijau untuk kategori 1, dan biru untuk data yang hilang atau kategori NaN. Dari visualisasi ini, terlihat bahwa sebagian besar titik data terkonsentrasi di sekitar pusat koordinat (sekitar (0, 0)), sementara beberapa titik menyebar lebih jauh, menunjukkan kemungkinan adanya outlier atau data yang berbeda signifikan. Kategori merah dan hijau tidak terpisah secara jelas, yang mengindikasikan bahwa data dalam kedua kategori ini mungkin memiliki pola distribusi yang serupa, sehingga sulit dibedakan hanya dengan dua komponen utama yang dipilih. Warna biru yang mewakili data yang hilang (NaN) juga muncul dalam plot, mengonfirmasi adanya data yang belum terisi atau tidak dapat dikategorikan. Secara keseluruhan, meskipun PCA berhasil mereduksi dimensi dan memvisualisasikan data dalam dua dimensi, pemisahan antara kategori tidak terlalu jelas, yang menunjukkan bahwa mungkin diperlukan fitur tambahan atau metode analisis lain untuk membedakan kategori dengan lebih baik."
      ],
      "metadata": {
        "id": "TOWNZtwPf3NX"
      }
    },
    {
      "cell_type": "markdown",
      "source": [
        "**Variansi yang dijelaskan**"
      ],
      "metadata": {
        "id": "o5a-d_hhXP10"
      }
    },
    {
      "cell_type": "code",
      "source": [
        "pca.explained_variance_ratio_"
      ],
      "metadata": {
        "colab": {
          "base_uri": "https://localhost:8080/"
        },
        "id": "aCGTjcVNZpgx",
        "outputId": "7d151cd0-831c-4b81-a30d-31e297a0469c"
      },
      "execution_count": 60,
      "outputs": [
        {
          "output_type": "execute_result",
          "data": {
            "text/plain": [
              "array([0.5481677 , 0.22568975])"
            ]
          },
          "metadata": {},
          "execution_count": 60
        }
      ]
    },
    {
      "cell_type": "markdown",
      "source": [
        "Hasil dari analisis PCA menunjukkan bahwa dua komponen utama yang dipilih dapat menjelaskan sebagian besar variansi dalam data. Berdasarkan nilai explained_variance_ratio_, komponen pertama menjelaskan sekitar 54.82% dari total variansi data, sementara komponen kedua menjelaskan 22.57%. Ini berarti bahwa kedua komponen utama ini bersama-sama menyumbang sekitar 77.39% dari informasi atau variansi dalam dataset, yang menunjukkan bahwa PCA berhasil mereduksi dimensi data dengan mempertahankan sebagian besar informasi penting."
      ],
      "metadata": {
        "id": "hGf1G5Xiga2I"
      }
    },
    {
      "cell_type": "code",
      "source": [
        "# Membuat DataFrame untuk hasil PCA (2 komponen utama)\n",
        "columns_pca = ['Principal Component 1', 'Principal Component 2']\n",
        "df_pca = pd.DataFrame(principalComponents, columns=columns_pca)\n",
        "\n",
        "# Menampilkan DataFrame hasil PCA\n",
        "print(df_pca)"
      ],
      "metadata": {
        "colab": {
          "base_uri": "https://localhost:8080/"
        },
        "id": "AtqW9dXLf0wF",
        "outputId": "8fc7d353-b38c-4293-8229-8c7aa3d0b77d"
      },
      "execution_count": 61,
      "outputs": [
        {
          "output_type": "stream",
          "name": "stdout",
          "text": [
            "     Principal Component 1  Principal Component 2\n",
            "0                -2.838303               0.832592\n",
            "1                 0.420676               0.379565\n",
            "2                 1.794607               0.756941\n",
            "3                -1.775249               0.773108\n",
            "4                 1.233551               0.245853\n",
            "..                     ...                    ...\n",
            "112              -2.960836               0.563034\n",
            "113              -2.611602               0.076550\n",
            "114              -1.610288              -0.061117\n",
            "115              -2.898550               1.145653\n",
            "116              -2.860814               0.757960\n",
            "\n",
            "[117 rows x 2 columns]\n"
          ]
        }
      ]
    },
    {
      "cell_type": "markdown",
      "source": [
        "Setelah reduksi dimensi, hasil PCA disajikan dalam bentuk DataFrame yang mencatat nilai dari dua komponen utama untuk setiap entri data. Kolom-kolom dalam DataFrame ini diberi nama 'Principal Component 1' dan 'Principal Component 2', yang masing-masing mewakili dua dimensi utama yang dihasilkan oleh PCA. Nilai-nilai pada kolom ini adalah proyeksi data asli pada komponen utama yang baru, yang memungkinkan kita untuk memvisualisasikan dan menganalisis data dalam ruang dua dimensi. Misalnya, pada baris pertama, nilai untuk 'Principal Component 1' adalah -2.838303 dan untuk 'Principal Component 2' adalah 0.832592, yang menunjukkan posisi titik data tersebut dalam ruang dua dimensi baru yang terbentuk. DataFrame ini memiliki 117 baris, yang mencakup semua titik data yang telah direduksi dimensinya, memungkinkan analisis lebih lanjut seperti visualisasi atau pengklasifikasian data berdasarkan komponen utama tersebut."
      ],
      "metadata": {
        "id": "3yW-58MegdU2"
      }
    }
  ]
}